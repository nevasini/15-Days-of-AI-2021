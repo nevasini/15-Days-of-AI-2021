{
  "nbformat": 4,
  "nbformat_minor": 0,
  "metadata": {
    "colab": {
      "provenance": [],
      "authorship_tag": "ABX9TyPM6pxNPK8BWqM0v7mizduq",
      "include_colab_link": true
    },
    "kernelspec": {
      "name": "python3",
      "display_name": "Python 3"
    },
    "language_info": {
      "name": "python"
    },
    "accelerator": "GPU",
    "gpuClass": "standard"
  },
  "cells": [
    {
      "cell_type": "markdown",
      "metadata": {
        "id": "view-in-github",
        "colab_type": "text"
      },
      "source": [
        "<a href=\"https://colab.research.google.com/github/nevasini/15-Days-of-AI-2021/blob/master/MLGH.ipynb\" target=\"_parent\"><img src=\"https://colab.research.google.com/assets/colab-badge.svg\" alt=\"Open In Colab\"/></a>"
      ]
    },
    {
      "cell_type": "code",
      "execution_count": null,
      "metadata": {
        "colab": {
          "base_uri": "https://localhost:8080/"
        },
        "id": "kwqFkonv0uEM",
        "outputId": "c9ac1f0f-a821-487c-825e-1ccc1eb8ced7"
      },
      "outputs": [
        {
          "output_type": "stream",
          "name": "stdout",
          "text": [
            "Cloning into 'STGCN_IJCAI-18'...\n",
            "remote: Enumerating objects: 53, done.\u001b[K\n",
            "remote: Counting objects: 100% (17/17), done.\u001b[K\n",
            "remote: Compressing objects: 100% (14/14), done.\u001b[K\n",
            "remote: Total 53 (delta 5), reused 3 (delta 3), pack-reused 36\u001b[K\n",
            "Unpacking objects: 100% (53/53), 7.06 MiB | 7.99 MiB/s, done.\n"
          ]
        }
      ],
      "source": [
        "!git clone https://github.com/VeritasYin/STGCN_IJCAI-18.git"
      ]
    },
    {
      "cell_type": "code",
      "source": [
        "!unzip /content/STGCN_IJCAI-18/data_loader/PeMS-M.zip -d /content/STGCN_IJCAI-18/dataset"
      ],
      "metadata": {
        "colab": {
          "base_uri": "https://localhost:8080/"
        },
        "id": "Qjb4Gzrr4mVY",
        "outputId": "8f97f104-e79b-423b-b67c-b9e5b5cd7a56"
      },
      "execution_count": null,
      "outputs": [
        {
          "output_type": "stream",
          "name": "stdout",
          "text": [
            "Archive:  /content/STGCN_IJCAI-18/data_loader/PeMS-M.zip\n",
            "   creating: /content/STGCN_IJCAI-18/dataset/PeMS-M/\n",
            "  inflating: /content/STGCN_IJCAI-18/dataset/PeMS-M/W_228.csv  \n",
            "   creating: /content/STGCN_IJCAI-18/dataset/__MACOSX/\n",
            "   creating: /content/STGCN_IJCAI-18/dataset/__MACOSX/PeMS-M/\n",
            "  inflating: /content/STGCN_IJCAI-18/dataset/__MACOSX/PeMS-M/._W_228.csv  \n",
            "  inflating: /content/STGCN_IJCAI-18/dataset/PeMS-M/V_228.csv  \n",
            "  inflating: /content/STGCN_IJCAI-18/dataset/__MACOSX/PeMS-M/._V_228.csv  \n"
          ]
        }
      ]
    },
    {
      "cell_type": "code",
      "source": [
        "!python /content/STGCN_IJCAI-18/main.py"
      ],
      "metadata": {
        "colab": {
          "base_uri": "https://localhost:8080/"
        },
        "id": "Qa7mu84Z03LA",
        "outputId": "e898e1ca-ac3a-4c2c-e689-7f086e27c266"
      },
      "execution_count": 8,
      "outputs": [
        {
          "output_type": "stream",
          "name": "stdout",
          "text": [
            "WARNING:tensorflow:From /usr/local/lib/python3.8/dist-packages/tensorflow/python/compat/v2_compat.py:107: disable_resource_variables (from tensorflow.python.ops.variable_scope) is deprecated and will be removed in a future version.\n",
            "Instructions for updating:\n",
            "non-resource variables are not supported in the long term\n",
            "WARNING:tensorflow:From /usr/local/lib/python3.8/dist-packages/tensorflow/python/compat/v2_compat.py:107: disable_resource_variables (from tensorflow.python.ops.variable_scope) is deprecated and will be removed in a future version.\n",
            "Instructions for updating:\n",
            "non-resource variables are not supported in the long term\n",
            "Training configs: Namespace(batch_size=50, epoch=50, graph='default', inf_mode='merge', ks=3, kt=3, lr=0.001, n_his=12, n_pred=9, n_route=25, opt='RMSProp', save=10)\n",
            "Traceback (most recent call last):\n",
            "  File \"/content/STGCN_IJCAI-18/main.py\", line 66, in <module>\n",
            "    PeMS = data_gen(pjoin('./dataset', data_file), (n_train, n_val, n_test), n, n_his + n_pred)\n",
            "  File \"/content/STGCN_IJCAI-18/data_loader/data_utils.py\", line 77, in data_gen\n",
            "    seq_test = seq_gen(n_test, data_seq, n_train + n_val, n_frame, n_route, day_slot)\n",
            "  File \"/content/STGCN_IJCAI-18/data_loader/data_utils.py\", line 53, in seq_gen\n",
            "    tmp_seq[i * n_slot + j, :, :, :] = np.reshape(data_seq[sta:end, :], [n_frame, n_route, C_0])\n",
            "  File \"<__array_function__ internals>\", line 5, in reshape\n",
            "  File \"/usr/local/lib/python3.8/dist-packages/numpy/core/fromnumeric.py\", line 298, in reshape\n",
            "    return _wrapfunc(a, 'reshape', newshape, order=order)\n",
            "  File \"/usr/local/lib/python3.8/dist-packages/numpy/core/fromnumeric.py\", line 57, in _wrapfunc\n",
            "    return bound(*args, **kwds)\n",
            "ValueError: cannot reshape array of size 175 into shape (21,25,1)\n"
          ]
        }
      ]
    },
    {
      "cell_type": "code",
      "source": [
        "!cp /content/STGCN_IJCAI-18/dataset/PeMS-M/*.csv /content/STGCN_IJCAI-18/dataset"
      ],
      "metadata": {
        "id": "pOGV_KvL535x"
      },
      "execution_count": 7,
      "outputs": []
    },
    {
      "cell_type": "code",
      "source": [
        "%cd /content/STGCN_IJCAI-18"
      ],
      "metadata": {
        "colab": {
          "base_uri": "https://localhost:8080/"
        },
        "id": "pZRdRlSf6duL",
        "outputId": "6f63ad6a-263b-4085-d7b5-a6cdeeb9edfa"
      },
      "execution_count": null,
      "outputs": [
        {
          "output_type": "stream",
          "name": "stdout",
          "text": [
            "/content/STGCN_IJCAI-18\n"
          ]
        }
      ]
    },
    {
      "cell_type": "code",
      "source": [
        "!pwd"
      ],
      "metadata": {
        "colab": {
          "base_uri": "https://localhost:8080/"
        },
        "id": "a_CLLxf06iic",
        "outputId": "9842560d-353d-424d-89b3-8b53d2f3fafb"
      },
      "execution_count": null,
      "outputs": [
        {
          "output_type": "stream",
          "name": "stdout",
          "text": [
            "/content/STGCN_IJCAI-18\n"
          ]
        }
      ]
    },
    {
      "cell_type": "code",
      "source": [
        "!cp -r /content/STGCN_IJCAI-18/output /content/drive/MyDrive"
      ],
      "metadata": {
        "id": "LwhOVqU7AKO8"
      },
      "execution_count": null,
      "outputs": []
    }
  ]
}